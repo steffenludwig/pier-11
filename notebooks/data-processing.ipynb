{
 "cells": [
  {
   "cell_type": "code",
   "execution_count": 79,
   "metadata": {
    "id": "pFqHVfY_RYeW"
   },
   "outputs": [],
   "source": [
    "import os"
   ]
  },
  {
   "cell_type": "code",
   "execution_count": 80,
   "metadata": {
    "id": "KKqS5zZQKDLe"
   },
   "outputs": [],
   "source": [
    "CWD = os.getcwd()"
   ]
  },
  {
   "cell_type": "code",
   "execution_count": 94,
   "metadata": {
    "id": "230RKa8LvWhE"
   },
   "outputs": [],
   "source": [
    "import pandas as pd\n",
    "df = pd.read_csv(CWD + \"/data/processed/train/oidium-train.csv\", skiprows = [0], encoding='latin-1')"
   ]
  },
  {
   "cell_type": "code",
   "execution_count": 95,
   "metadata": {
    "colab": {
     "base_uri": "https://localhost:8080/",
     "height": 330
    },
    "id": "H-HUVd_ZSEIJ",
    "outputId": "f5587d9a-f142-48d6-f295-423140acb7ed"
   },
   "outputs": [
    {
     "data": {
      "text/html": [
       "<div>\n",
       "<style scoped>\n",
       "    .dataframe tbody tr th:only-of-type {\n",
       "        vertical-align: middle;\n",
       "    }\n",
       "\n",
       "    .dataframe tbody tr th {\n",
       "        vertical-align: top;\n",
       "    }\n",
       "\n",
       "    .dataframe thead th {\n",
       "        text-align: right;\n",
       "    }\n",
       "</style>\n",
       "<table border=\"1\" class=\"dataframe\">\n",
       "  <thead>\n",
       "    <tr style=\"text-align: right;\">\n",
       "      <th></th>\n",
       "      <th>time</th>\n",
       "      <th>Datum</th>\n",
       "      <th>Tmin</th>\n",
       "      <th>Tavg</th>\n",
       "      <th>Tmax</th>\n",
       "      <th>Niederschlag</th>\n",
       "      <th>Feuchte</th>\n",
       "      <th>OidiumIndex</th>\n",
       "      <th>Stadienspez. Anfaelligkeit</th>\n",
       "      <th>OidiumTageswert</th>\n",
       "      <th>Blattfläche</th>\n",
       "      <th>BlattflaecheImWachstum</th>\n",
       "      <th>Blattanzahl</th>\n",
       "      <th>BBCHStadium</th>\n",
       "      <th>DayMonth</th>\n",
       "    </tr>\n",
       "  </thead>\n",
       "  <tbody>\n",
       "    <tr>\n",
       "      <th>2558</th>\n",
       "      <td>26.12.2020 23:50:00</td>\n",
       "      <td>26.12.2020</td>\n",
       "      <td>-2.05</td>\n",
       "      <td>0.460277777778</td>\n",
       "      <td>4.66</td>\n",
       "      <td>0</td>\n",
       "      <td>83.819444444444</td>\n",
       "      <td>0</td>\n",
       "      <td>0</td>\n",
       "      <td>0</td>\n",
       "      <td>0</td>\n",
       "      <td>0</td>\n",
       "      <td>0</td>\n",
       "      <td>0</td>\n",
       "      <td>26.12</td>\n",
       "    </tr>\n",
       "    <tr>\n",
       "      <th>2559</th>\n",
       "      <td>27.12.2020 23:50:00</td>\n",
       "      <td>27.12.2020</td>\n",
       "      <td>-0.73</td>\n",
       "      <td>4.308888888889</td>\n",
       "      <td>8.76</td>\n",
       "      <td>0.8</td>\n",
       "      <td>61.854166666667</td>\n",
       "      <td>0</td>\n",
       "      <td>0</td>\n",
       "      <td>0</td>\n",
       "      <td>0</td>\n",
       "      <td>0</td>\n",
       "      <td>0</td>\n",
       "      <td>0</td>\n",
       "      <td>27.12</td>\n",
       "    </tr>\n",
       "    <tr>\n",
       "      <th>2560</th>\n",
       "      <td>28.12.2020 23:50:00</td>\n",
       "      <td>28.12.2020</td>\n",
       "      <td>3.37</td>\n",
       "      <td>5.388055555556</td>\n",
       "      <td>8.18</td>\n",
       "      <td>9.9</td>\n",
       "      <td>76.847222222222</td>\n",
       "      <td>0</td>\n",
       "      <td>0</td>\n",
       "      <td>0</td>\n",
       "      <td>0</td>\n",
       "      <td>0</td>\n",
       "      <td>0</td>\n",
       "      <td>0</td>\n",
       "      <td>28.12</td>\n",
       "    </tr>\n",
       "    <tr>\n",
       "      <th>2561</th>\n",
       "      <td>29.12.2020 23:50:00</td>\n",
       "      <td>29.12.2020</td>\n",
       "      <td>4.23</td>\n",
       "      <td>5.18375</td>\n",
       "      <td>6.48</td>\n",
       "      <td>0.7</td>\n",
       "      <td>76.131944444444</td>\n",
       "      <td>0</td>\n",
       "      <td>0</td>\n",
       "      <td>0</td>\n",
       "      <td>0</td>\n",
       "      <td>0</td>\n",
       "      <td>0</td>\n",
       "      <td>0</td>\n",
       "      <td>29.12</td>\n",
       "    </tr>\n",
       "    <tr>\n",
       "      <th>2562</th>\n",
       "      <td>30.12.2020 23:50:00</td>\n",
       "      <td>30.12.2020</td>\n",
       "      <td>2.76</td>\n",
       "      <td>3.754930555556</td>\n",
       "      <td>5.26</td>\n",
       "      <td>0</td>\n",
       "      <td>83.236111111111</td>\n",
       "      <td>0</td>\n",
       "      <td>0</td>\n",
       "      <td>0</td>\n",
       "      <td>0</td>\n",
       "      <td>0</td>\n",
       "      <td>0</td>\n",
       "      <td>0</td>\n",
       "      <td>30.12</td>\n",
       "    </tr>\n",
       "  </tbody>\n",
       "</table>\n",
       "</div>"
      ],
      "text/plain": [
       "                     time       Datum   Tmin  ... Blattanzahl BBCHStadium DayMonth\n",
       "2558  26.12.2020 23:50:00  26.12.2020  -2.05  ...           0           0    26.12\n",
       "2559  27.12.2020 23:50:00  27.12.2020  -0.73  ...           0           0    27.12\n",
       "2560  28.12.2020 23:50:00  28.12.2020   3.37  ...           0           0    28.12\n",
       "2561  29.12.2020 23:50:00  29.12.2020   4.23  ...           0           0    29.12\n",
       "2562  30.12.2020 23:50:00  30.12.2020   2.76  ...           0           0    30.12\n",
       "\n",
       "[5 rows x 15 columns]"
      ]
     },
     "execution_count": 95,
     "metadata": {},
     "output_type": "execute_result"
    }
   ],
   "source": [
    "df.head()\n",
    "df.tail()"
   ]
  },
  {
   "cell_type": "code",
   "execution_count": 96,
   "metadata": {
    "colab": {
     "base_uri": "https://localhost:8080/"
    },
    "id": "ilhXRre2St9Q",
    "outputId": "a36907f8-321f-4f17-e069-219f1b461ede"
   },
   "outputs": [
    {
     "name": "stdout",
     "output_type": "stream",
     "text": [
      "[364, 365, 730, 731, 1096, 1097, 1462, 1463, 1828, 1829, 2194, 2195, 2247, 2248]\n",
      "14\n"
     ]
    }
   ],
   "source": [
    "import numpy as np\n",
    "\n",
    "drop = []\n",
    "for enum, i in enumerate(df['Niederschlag'][2:]):\n",
    "  if (pd.isna(i)):\n",
    "    drop.extend([enum, enum + 1])\n",
    "print(drop)\n",
    "print(len(drop))"
   ]
  },
  {
   "cell_type": "code",
   "execution_count": 103,
   "metadata": {
    "colab": {
     "base_uri": "https://localhost:8080/"
    },
    "id": "cwNFRx0lZoy-",
    "outputId": "55e07193-e04c-421b-b9a1-70dc2b8f2bec"
   },
   "outputs": [
    {
     "data": {
      "text/plain": [
       "array([['Zunzingen, 16.03.2021',\n",
       "        'Data per day from: 01.01.2013 to 31.12.2013', nan, ..., nan,\n",
       "        nan, nan],\n",
       "       ['time', 'Datum', 'Tmin', ..., 'Blattanzahl', 'BBCHStadium',\n",
       "        'DayMonth'],\n",
       "       ['01.01.2013 23:50:00', '01.01.2013', '1.69', ..., '0', '0',\n",
       "        '01.01'],\n",
       "       ...,\n",
       "       ['28.12.2020 23:50:00', '28.12.2020', '3.37', ..., '0', '0',\n",
       "        '28.12'],\n",
       "       ['29.12.2020 23:50:00', '29.12.2020', '4.23', ..., '0', '0',\n",
       "        '29.12'],\n",
       "       ['30.12.2020 23:50:00', '30.12.2020', '2.76', ..., '0', '0',\n",
       "        '30.12']], dtype=object)"
      ]
     },
     "execution_count": 103,
     "metadata": {},
     "output_type": "execute_result"
    }
   ],
   "source": [
    "tmp = np.array(df)\n",
    "np.delete(tmp, drop, axis=0)"
   ]
  },
  {
   "cell_type": "code",
   "execution_count": 106,
   "metadata": {
    "id": "h4kyrMlv4fgy"
   },
   "outputs": [],
   "source": [
    "df = pd.DataFrame(np.delete(tmp, drop, axis=0))"
   ]
  },
  {
   "cell_type": "code",
   "execution_count": 107,
   "metadata": {
    "id": "lL3Lvwa95Uro"
   },
   "outputs": [],
   "source": [
    "df.to_csv('oidium-train.csv', index=False)"
   ]
  }
 ],
 "metadata": {
  "colab": {
   "collapsed_sections": [],
   "name": "oidium - local.ipynb",
   "provenance": []
  },
  "kernelspec": {
   "display_name": "Python 3 (ipykernel)",
   "language": "python",
   "name": "python3"
  },
  "language_info": {
   "codemirror_mode": {
    "name": "ipython",
    "version": 3
   },
   "file_extension": ".py",
   "mimetype": "text/x-python",
   "name": "python",
   "nbconvert_exporter": "python",
   "pygments_lexer": "ipython3",
   "version": "3.9.7"
  }
 },
 "nbformat": 4,
 "nbformat_minor": 1
}
